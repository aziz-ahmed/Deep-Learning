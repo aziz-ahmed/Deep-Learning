{
  "nbformat": 4,
  "nbformat_minor": 0,
  "metadata": {
    "colab": {
      "name": "Assignment_17_Backprop and gradient checking.ipynb",
      "provenance": [],
      "collapsed_sections": []
    },
    "kernelspec": {
      "name": "python3",
      "display_name": "Python 3"
    },
    "language_info": {
      "name": "python"
    }
  },
  "cells": [
    {
      "cell_type": "code",
      "execution_count": 1,
      "metadata": {
        "id": "xipxz1DXChOi"
      },
      "outputs": [],
      "source": [
        "import numpy as np\n",
        "import math\n",
        "import pickle\n",
        "from tqdm import tqdm\n",
        "import matplotlib.pyplot as plt"
      ]
    },
    {
      "cell_type": "code",
      "source": [
        "from google.colab import drive\n",
        "drive.mount('/content/drive')"
      ],
      "metadata": {
        "colab": {
          "base_uri": "https://localhost:8080/"
        },
        "id": "flnrLkvIDdQ8",
        "outputId": "68e5f062-ebc5-47a8-bf29-b3fdb4bda53f"
      },
      "execution_count": 2,
      "outputs": [
        {
          "output_type": "stream",
          "name": "stdout",
          "text": [
            "Mounted at /content/drive\n"
          ]
        }
      ]
    },
    {
      "cell_type": "code",
      "source": [
        "with open('/content/drive/My Drive/data.pkl','rb') as f:\n",
        "  data=pickle.load(f)\n",
        "print(data.shape)\n",
        "print(data)"
      ],
      "metadata": {
        "colab": {
          "base_uri": "https://localhost:8080/"
        },
        "id": "h0FJDl9XN4gL",
        "outputId": "4ad37143-3f68-4f57-8e9a-31f78d820f03"
      },
      "execution_count": 3,
      "outputs": [
        {
          "output_type": "stream",
          "name": "stdout",
          "text": [
            "(506, 6)\n",
            "[[-1.2879095  -0.12001342 -1.45900038 -0.66660821 -0.14421743  1.85884913]\n",
            " [-0.59338101  0.36716642 -0.30309415 -0.98732948 -0.74026221  1.81901037]\n",
            " [-0.59338101 -0.26581176 -0.30309415 -0.98732948 -0.74026221  1.81989281]\n",
            " ...\n",
            " [ 0.11573841  0.79744934  1.17646583 -0.80321172  0.15812412  1.59974823]\n",
            " [ 0.11573841  0.73699637  1.17646583 -0.80321172  0.15812412  1.5997457 ]\n",
            " [ 0.11573841  0.43473151  1.17646583 -0.80321172  0.15812412  1.59957717]]\n"
          ]
        }
      ]
    },
    {
      "cell_type": "code",
      "source": [
        "x=data[:,:5]\n",
        "y=data[:,-1]\n",
        "print(\"x shape: \",x.shape)\n",
        "print(\"y shape: \",y.shape)"
      ],
      "metadata": {
        "colab": {
          "base_uri": "https://localhost:8080/"
        },
        "id": "ssvXYX2XOOq0",
        "outputId": "2f2a8b30-ccef-48f3-a8e2-f43ea1abfa2f"
      },
      "execution_count": 4,
      "outputs": [
        {
          "output_type": "stream",
          "name": "stdout",
          "text": [
            "x shape:  (506, 5)\n",
            "y shape:  (506,)\n"
          ]
        }
      ]
    },
    {
      "cell_type": "markdown",
      "source": [
        "Task 1: Backpropogation and gradient checking"
      ],
      "metadata": {
        "id": "7bms-_KQP6zE"
      }
    },
    {
      "cell_type": "code",
      "source": [
        "#sigmoid function\n",
        "def sigmoid(z):\n",
        "  sigmoid_cal = 1/(1+np.exp(-z))\n",
        "  return sigmoid_cal"
      ],
      "metadata": {
        "id": "vHJCN_HSP1Du"
      },
      "execution_count": 5,
      "outputs": []
    },
    {
      "cell_type": "code",
      "source": [
        "def forward_propagation(x,y,w):\n",
        "  dicts={} #here\n",
        "  exp = np.exp((((w[0]*x[0])+(w[1]*x[1]))*((w[0]*x[0])+(w[1]*x[1])))+w[5])\n",
        "  tanh = np.tanh(exp+w[6])\n",
        "  sig = sigmoid(((np.sin(w[2]*x[2]))*((w[3]*x[3])+(w[4]*x[4])))+w[7])\n",
        "  dy_pred = tanh + sig*w[8]\n",
        "  dl = -2*(y-dy_pred)  \n",
        "  loss = pow(y-(tanh+sig*w[8]),2)\n",
        "  dicts['exp'] = exp\n",
        "  dicts['tanh'] = tanh\n",
        "  dicts['sigmoid'] = sig\n",
        "  dicts['dy_pred'] =dy_pred\n",
        "  dicts['dl'] = dl\n",
        "  dicts['loss'] = loss\n",
        "  return dicts"
      ],
      "metadata": {
        "id": "46bKYsVNP1bH"
      },
      "execution_count": 6,
      "outputs": []
    },
    {
      "cell_type": "code",
      "source": [
        "def grader_sigmoid(z):\n",
        "  val=sigmoid(z)\n",
        "  assert(val==0.8807970779778823)\n",
        "  return True\n",
        "grader_sigmoid(2)"
      ],
      "metadata": {
        "colab": {
          "base_uri": "https://localhost:8080/"
        },
        "id": "4mxk9x28T0jz",
        "outputId": "66077a36-7ec0-448b-97cd-db0b82e0f272"
      },
      "execution_count": 7,
      "outputs": [
        {
          "output_type": "execute_result",
          "data": {
            "text/plain": [
              "True"
            ]
          },
          "metadata": {},
          "execution_count": 7
        }
      ]
    },
    {
      "cell_type": "code",
      "source": [
        "'''def grader_forwardprop(data):\n",
        "    dl = (data['dy_pred']==-1.9285278284819143)\n",
        "    loss=(data['loss']==0.9298048963072919)\n",
        "    part1=(data['exp']==1.1272967040973583)\n",
        "    part2=(data['tanh']==0.8417934192562146)\n",
        "    part3=(data['sigmoid']==0.5279179387419721)\n",
        "    assert(dl and loss and part1 and part2 and part3)\n",
        "    return True\n",
        "w=np.ones(9)*0.1\n",
        "print(x[0],y[0],w)\n",
        "d1=forward_propagation(x[0],y[0],w)\n",
        "grader_forwardprop(d1)'''"
      ],
      "metadata": {
        "colab": {
          "base_uri": "https://localhost:8080/",
          "height": 70
        },
        "id": "n4z_AxUDT_HS",
        "outputId": "c4b38d7f-b8be-44d2-a718-3ec3a6869137"
      },
      "execution_count": 8,
      "outputs": [
        {
          "output_type": "execute_result",
          "data": {
            "text/plain": [
              "\"def grader_forwardprop(data):\\n    dl = (data['dy_pred']==-1.9285278284819143)\\n    loss=(data['loss']==0.9298048963072919)\\n    part1=(data['exp']==1.1272967040973583)\\n    part2=(data['tanh']==0.8417934192562146)\\n    part3=(data['sigmoid']==0.5279179387419721)\\n    assert(dl and loss and part1 and part2 and part3)\\n    return True\\nw=np.ones(9)*0.1\\nprint(x[0],y[0],w)\\nd1=forward_propagation(x[0],y[0],w)\\ngrader_forwardprop(d1)\""
            ],
            "application/vnd.google.colaboratory.intrinsic+json": {
              "type": "string"
            }
          },
          "metadata": {},
          "execution_count": 8
        }
      ]
    },
    {
      "cell_type": "markdown",
      "source": [
        "Backward propagation:"
      ],
      "metadata": {
        "id": "YbHKu11KaDcn"
      }
    },
    {
      "cell_type": "code",
      "source": [
        "def backward_prop(x,y,dicts):\n",
        "  dv = {}\n",
        "  dw1 = dicts['dl']*(1-(math.pow(dicts['tanh'],2)))*dicts['exp']*2*((w[0]*x[0])+(w[1]*x[1]))*x[0]\n",
        "  dw2 = dicts['dl']*(1-(math.pow(dicts['tanh'],2)))*dicts['exp']*2*((w[0]*x[0])+(w[1]*x[1]))*x[1]\n",
        "  dw3 = dicts['dl']*(dicts['sigmoid']*(1-dicts['sigmoid']))*w[8]*((w[3]*x[3])+(w[4]*x[4]))*math.cos(x[2]*w[2])*x[2]\n",
        "  dw4 = dicts['dl']*(dicts['sigmoid']*(1-dicts['sigmoid']))*w[8]*math.sin(x[2]*w[2])*x[3]\n",
        "  dw5 = dicts['dl']*(dicts['sigmoid']*(1-dicts['sigmoid']))*w[8]*math.sin(x[2]*w[2])*x[4]\n",
        "  dw6 = dicts['dl']*(1-(math.pow(dicts['tanh'],2)))*dicts['exp']\n",
        "  dw7 = dicts['dl']*(1-(math.pow(dicts['tanh'],2)))\n",
        "  dw8 = dicts['dl']*(dicts['sigmoid']*(1-dicts['sigmoid']))*w[8]\n",
        "  dw9 = dicts['dl']*dicts['sigmoid']\n",
        "\n",
        "  dv['dw1'] = dw1\n",
        "  dv['dw2'] = dw2\n",
        "  dv['dw3'] = dw3\n",
        "  dv['dw4'] = dw4\n",
        "  dv['dw5'] = dw5\n",
        "  dv['dw6'] = dw6\n",
        "  dv['dw7'] = dw7\n",
        "  dv['dw8'] = dw8\n",
        "  dv['dw9'] = dw9\n",
        "  return dv"
      ],
      "metadata": {
        "id": "kgaBlCFhP1_6"
      },
      "execution_count": 9,
      "outputs": []
    },
    {
      "cell_type": "markdown",
      "source": [
        "Grader functions - 3"
      ],
      "metadata": {
        "id": "d1n77qASEbuM"
      }
    },
    {
      "cell_type": "code",
      "source": [
        "'''def grader_backprop(data):\n",
        "    dw1=(np.round(data['dw1'],6)==-0.229733)\n",
        "    dw2=(np.round(data['dw2'],6)==-0.021408)\n",
        "    dw3=(np.round(data['dw3'],6)==-0.005625)\n",
        "    dw4=(np.round(data['dw4'],6)==-0.004658)\n",
        "    dw5=(np.round(data['dw5'],6)==-0.001008)\n",
        "    dw6=(np.round(data['dw6'],6)==-0.633475)\n",
        "    dw7=(np.round(data['dw7'],6)==-0.561942)\n",
        "    dw8=(np.round(data['dw8'],6)==-0.048063)\n",
        "    dw9=(np.round(data['dw9'],6)==-1.018104)\n",
        "    assert(dw1 and dw2 and dw3 and dw4 and dw5 and dw6 and dw7 and dw8 and dw9)\n",
        "    return True '''\n",
        "w=np.ones(9)*0.1\n",
        "forward_dict=forward_propagation(x[0],y[0],w)\n",
        "backward_dict=backward_prop(x[0],y[0],forward_dict)\n",
        "#grader_backprop(backward_dict)"
      ],
      "metadata": {
        "id": "fYawg2flEZ_8"
      },
      "execution_count": 11,
      "outputs": []
    },
    {
      "cell_type": "markdown",
      "source": [
        "Implement Gradient Checking"
      ],
      "metadata": {
        "id": "gKBktm7JFMYm"
      }
    },
    {
      "cell_type": "code",
      "source": [
        "w = np.ones(9)*0.1"
      ],
      "metadata": {
        "id": "0Z2LWUw2P2Do"
      },
      "execution_count": 13,
      "outputs": []
    },
    {
      "cell_type": "code",
      "source": [
        "def grad_checking(data_point,y,w,epsilon=1e-7):\n",
        "  weight = w\n",
        "  loss = forward_propagation(data_point,y,w)\n",
        "  grad = backward_prop(data_point,w,loss)\n",
        "  apprx_gradients = []\n",
        "  grad_check = []\n",
        "  for i in range(len(w)):\n",
        "    w = np.ones(9)*0.1\n",
        "    w[i]=weight[i]+epsilon\n",
        "    l1 = forward_propagation(data_point,y,w)\n",
        "    loss1 = l1['loss']\n",
        "    w[i] = weight[i]-epsilon\n",
        "    l2 = forward_propagation(data_point,y,w)\n",
        "    loss2 = l2['loss']\n",
        "    apprx = (loss1 - loss2)/2*epsilon\n",
        "    apprx_gradients.append(apprx)\n",
        "    numerator = np.linalg.norm(grad[(str('dw')+str(i+1))] - apprx)\n",
        "    denominator = np.linalg.norm(grad[(str('dw')+str(i+1))]) + np.linalg.norm(apprx)\n",
        "    difference = numerator/denominator\n",
        "    grad_check.append(difference) \n",
        "  return grad_check,apprx_gradients   \n"
      ],
      "metadata": {
        "id": "vHkB8ZqVFUJg"
      },
      "execution_count": 14,
      "outputs": []
    },
    {
      "cell_type": "code",
      "source": [
        "print(\"gradient using back propagation:\")\n",
        "loss = forward_propagation(x[0],y[0],w)\n",
        "backward_prop(x[0],w,loss)"
      ],
      "metadata": {
        "colab": {
          "base_uri": "https://localhost:8080/"
        },
        "id": "fslkyDVRHsT9",
        "outputId": "900dbef6-ba00-43b5-f2e7-c9b86f07ea4b"
      },
      "execution_count": 15,
      "outputs": [
        {
          "output_type": "stream",
          "name": "stdout",
          "text": [
            "gradient using back propagation:\n"
          ]
        },
        {
          "output_type": "execute_result",
          "data": {
            "text/plain": [
              "{'dw1': -0.22973323498702,\n",
              " 'dw2': -0.02140761471775293,\n",
              " 'dw3': -0.00562540558026632,\n",
              " 'dw4': -0.004657941222712424,\n",
              " 'dw5': -0.0010077228498574248,\n",
              " 'dw6': -0.6334751873437471,\n",
              " 'dw7': -0.561941842854033,\n",
              " 'dw8': -0.04806288407316517,\n",
              " 'dw9': -1.0181044360187037}"
            ]
          },
          "metadata": {},
          "execution_count": 15
        }
      ]
    },
    {
      "cell_type": "code",
      "source": [
        "diff,apprx_grad = grad_checking(x[0],y[0],w,epsilon=1e-7)\n",
        "print(\"approxiamate gradient after gradient checking\")\n",
        "print(apprx_grad)\n",
        "print('difference')\n",
        "print(diff)\n",
        "#correct the difference values"
      ],
      "metadata": {
        "colab": {
          "base_uri": "https://localhost:8080/"
        },
        "id": "0g0AVpMuH_ea",
        "outputId": "ea1cd156-cab1-49ee-864a-cc9f0bd46713"
      },
      "execution_count": 16,
      "outputs": [
        {
          "output_type": "stream",
          "name": "stdout",
          "text": [
            "approxiamate gradient after gradient checking\n",
            "[-2.2973323521302548e-15, -2.1407614569923792e-16, -5.625406251930087e-17, -4.6579412549263567e-17, -1.0077233492111758e-17, -6.334751878611655e-15, -5.61941842502911e-15, -4.806288422809501e-16, -1.0181044357571167e-14]\n",
            "difference\n",
            "[0.9999999999999799, 0.9999999999999799, 0.9999999999999799, 0.9999999999999799, 0.9999999999999802, 0.99999999999998, 0.9999999999999798, 0.9999999999999801, 0.9999999999999799]\n"
          ]
        }
      ]
    },
    {
      "cell_type": "code",
      "source": [
        "'''def grader_grad_check(value):\n",
        "    print(value)\n",
        "    assert(np.all(value <= 10**-3))\n",
        "    return True \n",
        "\n",
        "w=[ 0.00271756,  0.01260512,  0.00167639, -0.00207756,  0.00720768,\n",
        "   0.00114524,  0.00684168,  0.02242521,  0.01296444]\n",
        "\n",
        "eps=10**-7\n",
        "value= grad_checking(x[0],y[0],w,eps)\n",
        "grader_grad_check(value)'''"
      ],
      "metadata": {
        "colab": {
          "base_uri": "https://localhost:8080/",
          "height": 52
        },
        "id": "X6_tC0Y3K7d3",
        "outputId": "578f76bb-1310-4d1c-84d0-d15dbeec567c"
      },
      "execution_count": 19,
      "outputs": [
        {
          "output_type": "execute_result",
          "data": {
            "text/plain": [
              "'def grader_grad_check(value):\\n    print(value)\\n    assert(np.all(value <= 10**-3))\\n    return True \\n\\nw=[ 0.00271756,  0.01260512,  0.00167639, -0.00207756,  0.00720768,\\n   0.00114524,  0.00684168,  0.02242521,  0.01296444]\\n\\neps=10**-7\\nvalue= grad_checking(x[0],y[0],w,eps)\\ngrader_grad_check(value)'"
            ],
            "application/vnd.google.colaboratory.intrinsic+json": {
              "type": "string"
            }
          },
          "metadata": {},
          "execution_count": 19
        }
      ]
    },
    {
      "cell_type": "markdown",
      "source": [
        "Task 2 - Optimizers"
      ],
      "metadata": {
        "id": "2_UOTbs2JcZ_"
      }
    },
    {
      "cell_type": "markdown",
      "source": [
        "Algo for vanilla weights"
      ],
      "metadata": {
        "id": "0zpMFCk7vylh"
      }
    },
    {
      "cell_type": "code",
      "source": [
        "from sklearn.metrics import mean_squared_error\n",
        "rate = 0.001\n",
        "mu=0\n",
        "sigma = 0.01\n",
        "w = np.random.normal(mu,sigma,9)\n",
        "weight = w"
      ],
      "metadata": {
        "id": "hY8lQnzIv3Ip"
      },
      "execution_count": 20,
      "outputs": []
    },
    {
      "cell_type": "code",
      "source": [
        "loss_val_vanilla = []\n",
        "epoch_vanilla = []\n",
        "for epoch in range(100):\n",
        "  epoch_vanilla.append(epoch)\n",
        "  y_pred = []\n",
        "  for point in range(len(data)):\n",
        "    forward = forward_propagation(x[point],y[point],w)\n",
        "    y_pred.append(forward['dy_pred'])\n",
        "    backward = backward_prop(x[point],w,forward)\n",
        "    w[0] = w[0]-rate*backward['dw1']\n",
        "    w[1] = w[1]-rate*backward['dw2']\n",
        "    w[2] = w[2]-rate*backward['dw3']\n",
        "    w[3] = w[3]-rate*backward['dw4']\n",
        "    w[4] = w[4]-rate*backward['dw5']\n",
        "    w[5] = w[5]-rate*backward['dw6']\n",
        "    w[6] = w[6]-rate*backward['dw7']\n",
        "    w[7] = w[7]-rate*backward['dw8']\n",
        "    w[8] = w[8]-rate*backward['dw9']\n",
        "\n",
        "  loss=mean_squared_error(y,y_pred)\n",
        "  loss_val_vanilla.append(loss)      "
      ],
      "metadata": {
        "id": "gO7k31n2w92o"
      },
      "execution_count": 21,
      "outputs": []
    },
    {
      "cell_type": "markdown",
      "source": [
        "Plot of epochs vs loss"
      ],
      "metadata": {
        "id": "39gzjfqczL2s"
      }
    },
    {
      "cell_type": "code",
      "source": [
        "%matplotlib inline\n",
        "import matplotlib.pyplot as plt\n",
        "plt.figure(figsize=(8,6))\n",
        "plt.grid()\n",
        "plt.plot(epoch_vanilla,loss_val_vanilla,label='loss')\n",
        "plt.title('epoch vs loss')\n",
        "plt.xlabel(\"epoch number\")\n",
        "plt.ylabel(\"loss\")\n",
        "plt.legend()"
      ],
      "metadata": {
        "id": "YvfB6o6IzNdE",
        "colab": {
          "base_uri": "https://localhost:8080/",
          "height": 421
        },
        "outputId": "f301fe10-9f7c-40f7-ce05-91051cba7f0b"
      },
      "execution_count": 22,
      "outputs": [
        {
          "output_type": "execute_result",
          "data": {
            "text/plain": [
              "<matplotlib.legend.Legend at 0x7f86a089bb50>"
            ]
          },
          "metadata": {},
          "execution_count": 22
        },
        {
          "output_type": "display_data",
          "data": {
            "text/plain": [
              "<Figure size 576x432 with 1 Axes>"
            ],
            "image/png": "[encoded data removed]"
          },
          "metadata": {
            "needs_background": "light"
          }
        }
      ]
    },
    {
      "cell_type": "markdown",
      "source": [
        "Algorithm for momentum"
      ],
      "metadata": {
        "id": "kHVs4wGjvvPj"
      }
    },
    {
      "cell_type": "code",
      "source": [
        "from sklearn.metrics import mean_squared_error\n",
        "rate = 0.001\n",
        "m = np.zeros(9)\n",
        "b = .9\n",
        "mu = 0\n",
        "sigma = 0.01\n",
        "w = np.random.normal(mu,sigma,9)\n",
        "weight = w"
      ],
      "metadata": {
        "id": "APtgwA4nFUlK"
      },
      "execution_count": 23,
      "outputs": []
    },
    {
      "cell_type": "code",
      "source": [
        "loss_val_momentum = []\n",
        "epoch_momentum =[]\n",
        "for epoch in range(100):\n",
        "  epoch_momentum.append(epoch)\n",
        "  y_pred = []\n",
        "  for point in range(len(data)):\n",
        "    forward = forward_propagation(x[point],y[point],w)\n",
        "    y_pred.append(forward['dy_pred'])\n",
        "    backward = backward_prop(x[point],w,forward)\n",
        "    m[0] = b*m[0]+(1-b)*backward['dw1']\n",
        "    w[0] = w[0]-rate*m[0]\n",
        "    m[1] = b*m[1]+(1-b)*backward['dw2']\n",
        "    w[1] = w[1]-rate*m[1]\n",
        "    m[1] = b*m[2]+(1-b)*backward['dw3']\n",
        "    w[1] = w[2]-rate*m[2]\n",
        "    m[1] = b*m[3]+(1-b)*backward['dw4']\n",
        "    w[1] = w[3]-rate*m[3]\n",
        "    m[1] = b*m[4]+(1-b)*backward['dw5']\n",
        "    w[1] = w[4]-rate*m[4]\n",
        "    m[1] = b*m[5]+(1-b)*backward['dw6']\n",
        "    w[1] = w[5]-rate*m[5]\n",
        "    m[1] = b*m[6]+(1-b)*backward['dw7']\n",
        "    w[1] = w[6]-rate*m[6]\n",
        "    m[1] = b*m[7]+(1-b)*backward['dw8']\n",
        "    w[1] = w[7]-rate*m[7]\n",
        "    m[1] = b*m[8]+(1-b)*backward['dw9']\n",
        "    w[1] = w[8]-rate*m[8]\n",
        "\n",
        "  loss=mean_squared_error(y,y_pred)\n",
        "  loss_val_momentum.append(loss)  \n",
        "    "
      ],
      "metadata": {
        "id": "91WZSeM8LjE6"
      },
      "execution_count": 24,
      "outputs": []
    },
    {
      "cell_type": "markdown",
      "source": [
        "plot epochs vs loss"
      ],
      "metadata": {
        "id": "5bWQMGSS03sF"
      }
    },
    {
      "cell_type": "code",
      "source": [
        "%matplotlib inline\n",
        "import matplotlib.pyplot as plt\n",
        "plt.figure(figsize=(8,6))\n",
        "plt.grid()\n",
        "plt.plot(epoch_momentum,loss_val_momentum,label='loss')\n",
        "plt.title('epoch vs loss')\n",
        "plt.xlabel(\"epoch number\")\n",
        "plt.ylabel(\"loss\")\n",
        "plt.legend()"
      ],
      "metadata": {
        "id": "v47vhsweFVS8",
        "colab": {
          "base_uri": "https://localhost:8080/",
          "height": 421
        },
        "outputId": "8387180e-b5ea-4e05-d89b-a479f7f38822"
      },
      "execution_count": 25,
      "outputs": [
        {
          "output_type": "execute_result",
          "data": {
            "text/plain": [
              "<matplotlib.legend.Legend at 0x7f86a07d4fd0>"
            ]
          },
          "metadata": {},
          "execution_count": 25
        },
        {
          "output_type": "display_data",
          "data": {
            "text/plain": [
              "<Figure size 576x432 with 1 Axes>"
            ],
            "image/png": "[encoded data removed]"
          },
          "metadata": {
            "needs_background": "light"
          }
        }
      ]
    },
    {
      "cell_type": "markdown",
      "source": [
        "Algo of Adam update weights"
      ],
      "metadata": {
        "id": "gXq4kcon1DPE"
      }
    },
    {
      "cell_type": "code",
      "source": [
        "rate =0.001\n",
        "m = np.zeros(9)\n",
        "n = np.zeros(9)\n",
        "b1 = 0.9\n",
        "b2 = 0.999\n",
        "z= 1e-8\n",
        "mu = 0\n",
        "sigma = 0.01\n",
        "w = np.random.normal(mu,sigma,9)"
      ],
      "metadata": {
        "id": "ygksx0yIFVd_"
      },
      "execution_count": 26,
      "outputs": []
    },
    {
      "cell_type": "code",
      "source": [
        "loss_val_adam = []\n",
        "epoch_adam = []\n",
        "for epoch in range(100):\n",
        "  epoch_adam.append(epoch)\n",
        "  y_pred = []\n",
        "  for point in range(len(data)):\n",
        "    forward = forward_propagation(x[point],y[point],w)\n",
        "    y_pred.append(forward['dy_pred'])\n",
        "    backward = backward_prop(x[point],w,forward)\n",
        "    m[0] = b1*m[0] + (1-b1)*backward['dw1']\n",
        "    mt = m[0]/(1-b1)\n",
        "    n[0] = b2*n[0]+(1-b2)*math.pow(backward['dw1'],2)\n",
        "    vt = n[0]/(1-b2)\n",
        "    w[0] = w[0]-(rate/(math.sqrt(vt)+z))*mt\n",
        "    m[1] = b1*m[1] + (1-b1)*backward['dw2']\n",
        "    mt = m[1]/(1-b1)\n",
        "    n[1] = b2*n[1]+(1-b2)*math.pow(backward['dw2'],2)\n",
        "    vt = n[1]/(1-b2)\n",
        "    w[1] = w[1]-(rate/(math.sqrt(vt)+z))*mt\n",
        "    m[2] = b1*m[2] + (1-b1)*backward['dw3']\n",
        "    mt = m[2]/(1-b1)\n",
        "    n[2] = b2*n[2]+(1-b2)*math.pow(backward['dw3'],2)\n",
        "    vt = n[2]/(1-b2)\n",
        "    w[2] = w[2]-(rate/(math.sqrt(vt)+z))*mt\n",
        "    m[3] = b1*m[3] + (1-b1)*backward['dw4']\n",
        "    mt = m[3]/(1-b1)\n",
        "    n[3] = b2*n[3]+(1-b2)*math.pow(backward['dw4'],2)\n",
        "    vt = n[3]/(1-b2)\n",
        "    w[3] = w[3]-(rate/(math.sqrt(vt)+z))*mt\n",
        "    m[4] = b1*m[4] + (1-b1)*backward['dw5']\n",
        "    mt = m[4]/(1-b1)\n",
        "    n[4] = b2*n[4]+(1-b2)*math.pow(backward['dw5'],2)\n",
        "    vt = n[4]/(1-b2)\n",
        "    w[4] = w[4]-(rate/(math.sqrt(vt)+z))*mt\n",
        "    m[5] = b1*m[5] + (1-b1)*backward['dw6']\n",
        "    mt = m[5]/(1-b1)\n",
        "    n[5] = b2*n[5]+(1-b2)*math.pow(backward['dw6'],2)\n",
        "    vt = n[5]/(1-b2)\n",
        "    w[5] = w[5]-(rate/(math.sqrt(vt)+z))*mt\n",
        "    m[6] = b1*m[6] + (1-b1)*backward['dw7']\n",
        "    mt = m[6]/(1-b1)\n",
        "    n[6] = b2*n[6]+(1-b2)*math.pow(backward['dw7'],2)\n",
        "    vt = n[6]/(1-b2)\n",
        "    w[6] = w[6]-(rate/(math.sqrt(vt)+z))*mt\n",
        "    m[7] = b1*m[7] + (1-b1)*backward['dw8']\n",
        "    mt = m[7]/(1-b1)\n",
        "    n[7] = b2*n[7]+(1-b2)*math.pow(backward['dw8'],2)\n",
        "    vt = n[7]/(1-b2)\n",
        "    w[7] = w[7]-(rate/(math.sqrt(vt)+z))*mt\n",
        "    m[8] = b1*m[8] + (1-b1)*backward['dw9']\n",
        "    mt = m[8]/(1-b1)\n",
        "    n[8] = b2*n[8]+(1-b2)*math.pow(backward['dw9'],2)\n",
        "    vt = n[8]/(1-b2)\n",
        "    w[8] = w[8]-(rate/(math.sqrt(vt)+z))*mt\n",
        "\n",
        "  loss = mean_squared_error(y,y_pred)\n",
        "  loss_val_adam.append(loss)  "
      ],
      "metadata": {
        "id": "2mrzApoR5E99"
      },
      "execution_count": 27,
      "outputs": []
    },
    {
      "cell_type": "markdown",
      "source": [
        "Plot epochs vs loss"
      ],
      "metadata": {
        "id": "1b-evdW98bs_"
      }
    },
    {
      "cell_type": "code",
      "source": [
        "%matplotlib inline\n",
        "import matplotlib.pyplot as plt\n",
        "plt.figure(figsize=(8,6))\n",
        "plt.grid()\n",
        "plt.plot(epoch_adam,loss_val_adam,label='loss')\n",
        "plt.title('epoch vs loss')\n",
        "plt.xlabel(\"epoch number\")\n",
        "plt.ylabel(\"loss\")\n",
        "plt.legend()"
      ],
      "metadata": {
        "id": "lPkmOfnZ8e65",
        "colab": {
          "base_uri": "https://localhost:8080/",
          "height": 421
        },
        "outputId": "6a831cb8-91b5-4d28-ef15-3388eddd8e5e"
      },
      "execution_count": 28,
      "outputs": [
        {
          "output_type": "execute_result",
          "data": {
            "text/plain": [
              "<matplotlib.legend.Legend at 0x7f86a032f990>"
            ]
          },
          "metadata": {},
          "execution_count": 28
        },
        {
          "output_type": "display_data",
          "data": {
            "text/plain": [
              "<Figure size 576x432 with 1 Axes>"
            ],
            "image/png": "[encoded data removed]"
          },
          "metadata": {
            "needs_background": "light"
          }
        }
      ]
    },
    {
      "cell_type": "markdown",
      "source": [
        "Comparision plot of different optimizers"
      ],
      "metadata": {
        "id": "lAlILGBD8to2"
      }
    },
    {
      "cell_type": "code",
      "source": [
        "%matplotlib inline\n",
        "import matplotlib.pyplot as plt\n",
        "plt.figure(figsize=(8,6))\n",
        "plt.grid()\n",
        "plt.plot(epoch_adam,loss_val_adam, label=' adam update')\n",
        "plt.plot(epoch_vanilla,loss_val_vanilla, label=' vanilla update')\n",
        "plt.plot(epoch_momentum,loss_val_momentum, label=' momentum')\n",
        "plt.xlabel(\"epoch_number\")\n",
        "plt.ylabel(\"loss\")\n",
        "plt.legend()"
      ],
      "metadata": {
        "id": "FvKcuc1eFVnb",
        "colab": {
          "base_uri": "https://localhost:8080/",
          "height": 406
        },
        "outputId": "9e7de9fc-ba9d-4abb-c0c4-625205efd0be"
      },
      "execution_count": 29,
      "outputs": [
        {
          "output_type": "execute_result",
          "data": {
            "text/plain": [
              "<matplotlib.legend.Legend at 0x7f86a0283110>"
            ]
          },
          "metadata": {},
          "execution_count": 29
        },
        {
          "output_type": "display_data",
          "data": {
            "text/plain": [
              "<Figure size 576x432 with 1 Axes>"
            ],
            "image/png": "[encoded data removed]"
          },
          "metadata": {
            "needs_background": "light"
          }
        }
      ]
    },
    {
      "cell_type": "code",
      "source": [
        ""
      ],
      "metadata": {
        "id": "3pZlNXu1FVwk"
      },
      "execution_count": 29,
      "outputs": []
    }
  ]
}